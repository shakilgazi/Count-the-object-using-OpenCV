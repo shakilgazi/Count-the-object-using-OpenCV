{
  "nbformat": 4,
  "nbformat_minor": 0,
  "metadata": {
    "colab": {
      "provenance": [],
      "mount_file_id": "1UfJfXnM6l5BKN5XLx_dlQeiZe3xssVf0",
      "authorship_tag": "ABX9TyPtXG5ZGGeS2iGcRdWfb547",
      "include_colab_link": true
    },
    "kernelspec": {
      "name": "python3",
      "display_name": "Python 3"
    },
    "language_info": {
      "name": "python"
    },
    "accelerator": "GPU",
    "gpuClass": "standard"
  },
  "cells": [
    {
      "cell_type": "markdown",
      "metadata": {
        "id": "view-in-github",
        "colab_type": "text"
      },
      "source": [
        "<a href=\"https://colab.research.google.com/github/shakilgazi/Count-the-object-using-OpenCV/blob/main/count_the_object.ipynb\" target=\"_parent\"><img src=\"https://colab.research.google.com/assets/colab-badge.svg\" alt=\"Open In Colab\"/></a>"
      ]
    },
    {
      "cell_type": "code",
      "execution_count": null,
      "metadata": {
        "id": "UKV83BBSv12o"
      },
      "outputs": [],
      "source": [
        "import cv2\n",
        "import numpy as np"
      ]
    },
    {
      "cell_type": "code",
      "source": [
        "# Load the pre-trained model\n",
        "model_file = \"/content/drive/MyDrive/Data/pre-trained-models-20230206T063755Z-001/ssd_mobilenet_v2_coco.pb\"\n",
        "config_file = \"/content/drive/MyDrive/Data/pre-trained-models-20230206T063755Z-001/ssd_mobilenet_v2_coco.txt\"\n",
        "net = cv2.dnn.readNetFromTensorflow(model_file, config_file)"
      ],
      "metadata": {
        "id": "nRaKzBaZwkcC",
        "colab": {
          "base_uri": "https://localhost:8080/",
          "height": 235
        },
        "outputId": "a6f2cc3e-b26b-4a35-ae8a-81b1a7aa5ee1"
      },
      "execution_count": null,
      "outputs": [
        {
          "output_type": "error",
          "ename": "error",
          "evalue": "ignored",
          "traceback": [
            "\u001b[0;31m---------------------------------------------------------------------------\u001b[0m",
            "\u001b[0;31merror\u001b[0m                                     Traceback (most recent call last)",
            "\u001b[0;32m<ipython-input-2-dbd0a32a04b2>\u001b[0m in \u001b[0;36m<module>\u001b[0;34m\u001b[0m\n\u001b[1;32m      2\u001b[0m \u001b[0mmodel_file\u001b[0m \u001b[0;34m=\u001b[0m \u001b[0;34m\"/content/drive/MyDrive/Data/pre-trained-models-20230206T063755Z-001/ssd_mobilenet_v2_coco.pb\"\u001b[0m\u001b[0;34m\u001b[0m\u001b[0;34m\u001b[0m\u001b[0m\n\u001b[1;32m      3\u001b[0m \u001b[0mconfig_file\u001b[0m \u001b[0;34m=\u001b[0m \u001b[0;34m\"/content/drive/MyDrive/Data/pre-trained-models-20230206T063755Z-001/ssd_mobilenet_v2_coco.txt\"\u001b[0m\u001b[0;34m\u001b[0m\u001b[0;34m\u001b[0m\u001b[0m\n\u001b[0;32m----> 4\u001b[0;31m \u001b[0mnet\u001b[0m \u001b[0;34m=\u001b[0m \u001b[0mcv2\u001b[0m\u001b[0;34m.\u001b[0m\u001b[0mdnn\u001b[0m\u001b[0;34m.\u001b[0m\u001b[0mreadNetFromTensorflow\u001b[0m\u001b[0;34m(\u001b[0m\u001b[0mmodel_file\u001b[0m\u001b[0;34m,\u001b[0m \u001b[0mconfig_file\u001b[0m\u001b[0;34m)\u001b[0m\u001b[0;34m\u001b[0m\u001b[0;34m\u001b[0m\u001b[0m\n\u001b[0m",
            "\u001b[0;31merror\u001b[0m: OpenCV(4.6.0) /io/opencv/modules/dnn/src/caffe/caffe_io.cpp:1126: error: (-2:Unspecified error) FAILED: fs.is_open(). Can't open \"/content/drive/MyDrive/Data/pre-trained-models-20230206T063755Z-001/ssd_mobilenet_v2_coco.txt\" in function 'ReadProtoFromTextFile'\n"
          ]
        }
      ]
    },
    {
      "cell_type": "code",
      "source": [
        "# Load the refrigerator image\n",
        "img = cv2.imread(\"/content/drive/MyDrive/Data/pre-trained-models-20230206T063755Z-001/task3/freezer_image (1).jpg\")"
      ],
      "metadata": {
        "id": "SET1eLFriiXJ"
      },
      "execution_count": null,
      "outputs": []
    },
    {
      "cell_type": "code",
      "source": [
        "# Create a blob from the image\n",
        "blob = cv2.dnn.blobFromImage(img, size=(300, 300), swapRB=True)"
      ],
      "metadata": {
        "id": "6mZuQLvBi8kf"
      },
      "execution_count": null,
      "outputs": []
    },
    {
      "cell_type": "code",
      "source": [
        "# Set the blob as input to the model\n",
        "net.setInput(blob)"
      ],
      "metadata": {
        "id": "KiGsG77ojDtM"
      },
      "execution_count": null,
      "outputs": []
    },
    {
      "cell_type": "code",
      "source": [
        "# Run forward-pass to get the detections\n",
        "detections = net.forward()"
      ],
      "metadata": {
        "colab": {
          "base_uri": "https://localhost:8080/",
          "height": 183
        },
        "id": "HAJSunIHjISa",
        "outputId": "e1238566-7d59-4346-97f2-669a96a3adae"
      },
      "execution_count": null,
      "outputs": [
        {
          "output_type": "error",
          "ename": "error",
          "evalue": "ignored",
          "traceback": [
            "\u001b[0;31m---------------------------------------------------------------------------\u001b[0m",
            "\u001b[0;31merror\u001b[0m                                     Traceback (most recent call last)",
            "\u001b[0;32m<ipython-input-6-b220275c182f>\u001b[0m in \u001b[0;36m<module>\u001b[0;34m\u001b[0m\n\u001b[1;32m      1\u001b[0m \u001b[0;31m# Run forward-pass to get the detections\u001b[0m\u001b[0;34m\u001b[0m\u001b[0;34m\u001b[0m\u001b[0;34m\u001b[0m\u001b[0m\n\u001b[0;32m----> 2\u001b[0;31m \u001b[0mdetections\u001b[0m \u001b[0;34m=\u001b[0m \u001b[0mnet\u001b[0m\u001b[0;34m.\u001b[0m\u001b[0mforward\u001b[0m\u001b[0;34m(\u001b[0m\u001b[0;34m)\u001b[0m\u001b[0;34m\u001b[0m\u001b[0;34m\u001b[0m\u001b[0m\n\u001b[0m",
            "\u001b[0;31merror\u001b[0m: OpenCV(4.6.0) /io/opencv/modules/dnn/src/net.cpp:79: error: (-215:Assertion failed) !empty() in function 'forward'\n"
          ]
        }
      ]
    },
    {
      "cell_type": "code",
      "source": [
        "!sudo apt-get install tesseract-ocr"
      ],
      "metadata": {
        "colab": {
          "base_uri": "https://localhost:8080/"
        },
        "id": "dVSQYHS7yN7o",
        "outputId": "a904e34b-91ea-401a-ec74-89d12037239f"
      },
      "execution_count": null,
      "outputs": [
        {
          "output_type": "stream",
          "name": "stdout",
          "text": [
            "Reading package lists... Done\n",
            "Building dependency tree       \n",
            "Reading state information... Done\n",
            "The following package was automatically installed and is no longer required:\n",
            "  libnvidia-common-510\n",
            "Use 'sudo apt autoremove' to remove it.\n",
            "The following additional packages will be installed:\n",
            "  tesseract-ocr-eng tesseract-ocr-osd\n",
            "The following NEW packages will be installed:\n",
            "  tesseract-ocr tesseract-ocr-eng tesseract-ocr-osd\n",
            "0 upgraded, 3 newly installed, 0 to remove and 27 not upgraded.\n",
            "Need to get 4,850 kB of archives.\n",
            "After this operation, 16.3 MB of additional disk space will be used.\n",
            "Get:1 http://archive.ubuntu.com/ubuntu focal/universe amd64 tesseract-ocr-eng all 1:4.00~git30-7274cfa-1 [1,598 kB]\n",
            "Get:2 http://archive.ubuntu.com/ubuntu focal/universe amd64 tesseract-ocr-osd all 1:4.00~git30-7274cfa-1 [2,990 kB]\n",
            "Get:3 http://archive.ubuntu.com/ubuntu focal/universe amd64 tesseract-ocr amd64 4.1.1-2build2 [262 kB]\n",
            "Fetched 4,850 kB in 3min 28s (23.3 kB/s)\n",
            "debconf: unable to initialize frontend: Dialog\n",
            "debconf: (No usable dialog-like program is installed, so the dialog based frontend cannot be used. at /usr/share/perl5/Debconf/FrontEnd/Dialog.pm line 76, <> line 3.)\n",
            "debconf: falling back to frontend: Readline\n",
            "debconf: unable to initialize frontend: Readline\n",
            "debconf: (This frontend requires a controlling tty.)\n",
            "debconf: falling back to frontend: Teletype\n",
            "dpkg-preconfigure: unable to re-open stdin: \n",
            "Selecting previously unselected package tesseract-ocr-eng.\n",
            "(Reading database ... 129496 files and directories currently installed.)\n",
            "Preparing to unpack .../tesseract-ocr-eng_1%3a4.00~git30-7274cfa-1_all.deb ...\n",
            "Unpacking tesseract-ocr-eng (1:4.00~git30-7274cfa-1) ...\n",
            "Selecting previously unselected package tesseract-ocr-osd.\n",
            "Preparing to unpack .../tesseract-ocr-osd_1%3a4.00~git30-7274cfa-1_all.deb ...\n",
            "Unpacking tesseract-ocr-osd (1:4.00~git30-7274cfa-1) ...\n",
            "Selecting previously unselected package tesseract-ocr.\n",
            "Preparing to unpack .../tesseract-ocr_4.1.1-2build2_amd64.deb ...\n",
            "Unpacking tesseract-ocr (4.1.1-2build2) ...\n",
            "Setting up tesseract-ocr-eng (1:4.00~git30-7274cfa-1) ...\n",
            "Setting up tesseract-ocr-osd (1:4.00~git30-7274cfa-1) ...\n",
            "Setting up tesseract-ocr (4.1.1-2build2) ...\n",
            "Processing triggers for man-db (2.9.1-1) ...\n"
          ]
        }
      ]
    },
    {
      "cell_type": "code",
      "source": [
        "\n",
        "# Import libraries\n",
        "import cv2\n",
        "import numpy as np\n",
        "import matplotlib.pyplot as plt\n",
        "  \n",
        "image = cv2.imread('/content/drive/MyDrive/Data/pre-trained-models-20230206T063755Z-001/task3/freezer_image (1).jpg')\n",
        "gray = cv2.cvtColor(image, cv2.COLOR_BGR2GRAY)\n",
        "  \n",
        "blur = cv2.GaussianBlur(gray, (11, 11), 0)\n",
        "canny = cv2.Canny(blur, 30, 150, 3)\n",
        "dilated = cv2.dilate(canny, (1, 1), iterations=0)\n",
        "  \n",
        "(cnt, hierarchy) = cv2.findContours(\n",
        "    dilated.copy(), cv2.RETR_EXTERNAL, cv2.CHAIN_APPROX_NONE)\n",
        "rgb = cv2.cvtColor(image, cv2.COLOR_BGR2RGB)\n",
        "cv2.drawContours(rgb, cnt, -1, (0, 255, 0), 2)\n",
        "  \n",
        "  \n",
        "print(\"Number of item : \", len(cnt))"
      ],
      "metadata": {
        "colab": {
          "base_uri": "https://localhost:8080/"
        },
        "id": "p137_tOsxrBF",
        "outputId": "7349ab62-ebe5-42a2-80fb-c9c63b8f8df3"
      },
      "execution_count": null,
      "outputs": [
        {
          "output_type": "stream",
          "name": "stdout",
          "text": [
            "Number of item :  1134\n"
          ]
        }
      ]
    },
    {
      "cell_type": "code",
      "source": [
        "# Import libraries\n",
        "import cv2\n",
        "import numpy as np\n",
        "import matplotlib.pyplot as plt"
      ],
      "metadata": {
        "id": "i5N8u1werkO2"
      },
      "execution_count": null,
      "outputs": []
    },
    {
      "cell_type": "code",
      "source": [
        "image = cv2.imread('/content/drive/MyDrive/Data/pre-trained-models-20230206T063755Z-001/task3/freezer_image (1).jpg')\n",
        "gray = cv2.cvtColor(image, cv2.COLOR_BGR2GRAY)"
      ],
      "metadata": {
        "id": "gAUJf6ilrkUe"
      },
      "execution_count": null,
      "outputs": []
    },
    {
      "cell_type": "code",
      "source": [
        "blur = cv2.GaussianBlur(gray, (11, 11), 0)\n",
        "canny = cv2.Canny(blur, 30, 150, 3)\n",
        "dilated = cv2.dilate(canny, (1, 1), iterations=0)"
      ],
      "metadata": {
        "id": "wRufTPparkXb"
      },
      "execution_count": null,
      "outputs": []
    },
    {
      "cell_type": "code",
      "source": [
        "(cnt, hierarchy) = cv2.findContours(\n",
        "    dilated.copy(), cv2.RETR_EXTERNAL, cv2.CHAIN_APPROX_NONE)\n",
        "rgb = cv2.cvtColor(image, cv2.COLOR_BGR2RGB)\n",
        "cv2.drawContours(rgb, cnt, -1, (0, 255, 0), 2)"
      ],
      "metadata": {
        "colab": {
          "base_uri": "https://localhost:8080/"
        },
        "id": "AvwLomHSrkoN",
        "outputId": "d4524d3d-856c-432d-c9d9-0d256887c16c"
      },
      "execution_count": null,
      "outputs": [
        {
          "output_type": "execute_result",
          "data": {
            "text/plain": [
              "array([[[30, 21, 16],\n",
              "        [26, 17, 12],\n",
              "        [19,  9,  7],\n",
              "        ...,\n",
              "        [10,  0,  0],\n",
              "        [12,  1,  0],\n",
              "        [14,  3,  1]],\n",
              "\n",
              "       [[23, 13, 11],\n",
              "        [20, 10,  8],\n",
              "        [17,  7,  5],\n",
              "        ...,\n",
              "        [23, 12, 10],\n",
              "        [24, 13, 11],\n",
              "        [25, 14, 12]],\n",
              "\n",
              "       [[12,  4,  2],\n",
              "        [13,  5,  3],\n",
              "        [13,  5,  3],\n",
              "        ...,\n",
              "        [32, 18, 15],\n",
              "        [33, 19, 16],\n",
              "        [33, 19, 16]],\n",
              "\n",
              "       ...,\n",
              "\n",
              "       [[22, 12, 10],\n",
              "        [23, 13, 11],\n",
              "        [26, 16, 14],\n",
              "        ...,\n",
              "        [ 3,  0,  0],\n",
              "        [ 4,  0,  0],\n",
              "        [ 3,  0,  0]],\n",
              "\n",
              "       [[41, 30, 26],\n",
              "        [42, 31, 27],\n",
              "        [43, 32, 28],\n",
              "        ...,\n",
              "        [15, 10,  7],\n",
              "        [17,  8,  9],\n",
              "        [15, 10,  7]],\n",
              "\n",
              "       [[49, 36, 30],\n",
              "        [50, 37, 31],\n",
              "        [51, 38, 32],\n",
              "        ...,\n",
              "        [47, 39, 37],\n",
              "        [46, 38, 36],\n",
              "        [46, 38, 36]]], dtype=uint8)"
            ]
          },
          "metadata": {},
          "execution_count": 4
        }
      ]
    },
    {
      "cell_type": "code",
      "source": [
        "print(\"Number of item : \", len(cnt))"
      ],
      "metadata": {
        "colab": {
          "base_uri": "https://localhost:8080/"
        },
        "id": "RpDFqM7arsBM",
        "outputId": "6b16f391-b409-41cc-cf24-9bcc192a76c2"
      },
      "execution_count": null,
      "outputs": [
        {
          "output_type": "stream",
          "name": "stdout",
          "text": [
            "Number of item :  1134\n"
          ]
        }
      ]
    }
  ]
}